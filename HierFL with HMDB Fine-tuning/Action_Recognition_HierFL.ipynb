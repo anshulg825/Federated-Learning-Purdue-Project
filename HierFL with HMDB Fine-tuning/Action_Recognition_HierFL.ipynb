{
  "nbformat": 4,
  "nbformat_minor": 0,
  "metadata": {
    "colab": {
      "name": "Action Recognition HierFL",
      "provenance": [],
      "collapsed_sections": []
    },
    "kernelspec": {
      "name": "python3",
      "display_name": "Python 3"
    },
    "language_info": {
      "name": "python"
    },
    "accelerator": "GPU",
    "widgets": {
      "application/vnd.jupyter.widget-state+json": {
        "0f3c75c18f7d418e86681b39655c3ce9": {
          "model_module": "@jupyter-widgets/controls",
          "model_name": "HBoxModel",
          "state": {
            "_view_name": "HBoxView",
            "_dom_classes": [],
            "_model_name": "HBoxModel",
            "_view_module": "@jupyter-widgets/controls",
            "_model_module_version": "1.5.0",
            "_view_count": null,
            "_view_module_version": "1.5.0",
            "box_style": "",
            "layout": "IPY_MODEL_b0836c1e163842b3b3aa9ce5b64f18e7",
            "_model_module": "@jupyter-widgets/controls",
            "children": [
              "IPY_MODEL_e6b9722a5f434ad191e773de265d8608",
              "IPY_MODEL_ffa545eb12574fd29ee076afe356c04f"
            ]
          }
        },
        "b0836c1e163842b3b3aa9ce5b64f18e7": {
          "model_module": "@jupyter-widgets/base",
          "model_name": "LayoutModel",
          "state": {
            "_view_name": "LayoutView",
            "grid_template_rows": null,
            "right": null,
            "justify_content": null,
            "_view_module": "@jupyter-widgets/base",
            "overflow": null,
            "_model_module_version": "1.2.0",
            "_view_count": null,
            "flex_flow": null,
            "width": null,
            "min_width": null,
            "border": null,
            "align_items": null,
            "bottom": null,
            "_model_module": "@jupyter-widgets/base",
            "top": null,
            "grid_column": null,
            "overflow_y": null,
            "overflow_x": null,
            "grid_auto_flow": null,
            "grid_area": null,
            "grid_template_columns": null,
            "flex": null,
            "_model_name": "LayoutModel",
            "justify_items": null,
            "grid_row": null,
            "max_height": null,
            "align_content": null,
            "visibility": null,
            "align_self": null,
            "height": null,
            "min_height": null,
            "padding": null,
            "grid_auto_rows": null,
            "grid_gap": null,
            "max_width": null,
            "order": null,
            "_view_module_version": "1.2.0",
            "grid_template_areas": null,
            "object_position": null,
            "object_fit": null,
            "grid_auto_columns": null,
            "margin": null,
            "display": null,
            "left": null
          }
        },
        "e6b9722a5f434ad191e773de265d8608": {
          "model_module": "@jupyter-widgets/controls",
          "model_name": "FloatProgressModel",
          "state": {
            "_view_name": "ProgressView",
            "style": "IPY_MODEL_c012685ad2e24a68a40fff8317132f1f",
            "_dom_classes": [],
            "description": "100%",
            "_model_name": "FloatProgressModel",
            "bar_style": "success",
            "max": 133546016,
            "_view_module": "@jupyter-widgets/controls",
            "_model_module_version": "1.5.0",
            "value": 133546016,
            "_view_count": null,
            "_view_module_version": "1.5.0",
            "orientation": "horizontal",
            "min": 0,
            "description_tooltip": null,
            "_model_module": "@jupyter-widgets/controls",
            "layout": "IPY_MODEL_10e54fbdb371402aba1bf4787da41871"
          }
        },
        "ffa545eb12574fd29ee076afe356c04f": {
          "model_module": "@jupyter-widgets/controls",
          "model_name": "HTMLModel",
          "state": {
            "_view_name": "HTMLView",
            "style": "IPY_MODEL_2c79757e23754b139d0700ce785d59f3",
            "_dom_classes": [],
            "description": "",
            "_model_name": "HTMLModel",
            "placeholder": "​",
            "_view_module": "@jupyter-widgets/controls",
            "_model_module_version": "1.5.0",
            "value": " 127M/127M [02:51&lt;00:00, 777kB/s]",
            "_view_count": null,
            "_view_module_version": "1.5.0",
            "description_tooltip": null,
            "_model_module": "@jupyter-widgets/controls",
            "layout": "IPY_MODEL_540084c258bd48b6bdf411b819dc2f7e"
          }
        },
        "c012685ad2e24a68a40fff8317132f1f": {
          "model_module": "@jupyter-widgets/controls",
          "model_name": "ProgressStyleModel",
          "state": {
            "_view_name": "StyleView",
            "_model_name": "ProgressStyleModel",
            "description_width": "initial",
            "_view_module": "@jupyter-widgets/base",
            "_model_module_version": "1.5.0",
            "_view_count": null,
            "_view_module_version": "1.2.0",
            "bar_color": null,
            "_model_module": "@jupyter-widgets/controls"
          }
        },
        "10e54fbdb371402aba1bf4787da41871": {
          "model_module": "@jupyter-widgets/base",
          "model_name": "LayoutModel",
          "state": {
            "_view_name": "LayoutView",
            "grid_template_rows": null,
            "right": null,
            "justify_content": null,
            "_view_module": "@jupyter-widgets/base",
            "overflow": null,
            "_model_module_version": "1.2.0",
            "_view_count": null,
            "flex_flow": null,
            "width": null,
            "min_width": null,
            "border": null,
            "align_items": null,
            "bottom": null,
            "_model_module": "@jupyter-widgets/base",
            "top": null,
            "grid_column": null,
            "overflow_y": null,
            "overflow_x": null,
            "grid_auto_flow": null,
            "grid_area": null,
            "grid_template_columns": null,
            "flex": null,
            "_model_name": "LayoutModel",
            "justify_items": null,
            "grid_row": null,
            "max_height": null,
            "align_content": null,
            "visibility": null,
            "align_self": null,
            "height": null,
            "min_height": null,
            "padding": null,
            "grid_auto_rows": null,
            "grid_gap": null,
            "max_width": null,
            "order": null,
            "_view_module_version": "1.2.0",
            "grid_template_areas": null,
            "object_position": null,
            "object_fit": null,
            "grid_auto_columns": null,
            "margin": null,
            "display": null,
            "left": null
          }
        },
        "2c79757e23754b139d0700ce785d59f3": {
          "model_module": "@jupyter-widgets/controls",
          "model_name": "DescriptionStyleModel",
          "state": {
            "_view_name": "StyleView",
            "_model_name": "DescriptionStyleModel",
            "description_width": "",
            "_view_module": "@jupyter-widgets/base",
            "_model_module_version": "1.5.0",
            "_view_count": null,
            "_view_module_version": "1.2.0",
            "_model_module": "@jupyter-widgets/controls"
          }
        },
        "540084c258bd48b6bdf411b819dc2f7e": {
          "model_module": "@jupyter-widgets/base",
          "model_name": "LayoutModel",
          "state": {
            "_view_name": "LayoutView",
            "grid_template_rows": null,
            "right": null,
            "justify_content": null,
            "_view_module": "@jupyter-widgets/base",
            "overflow": null,
            "_model_module_version": "1.2.0",
            "_view_count": null,
            "flex_flow": null,
            "width": null,
            "min_width": null,
            "border": null,
            "align_items": null,
            "bottom": null,
            "_model_module": "@jupyter-widgets/base",
            "top": null,
            "grid_column": null,
            "overflow_y": null,
            "overflow_x": null,
            "grid_auto_flow": null,
            "grid_area": null,
            "grid_template_columns": null,
            "flex": null,
            "_model_name": "LayoutModel",
            "justify_items": null,
            "grid_row": null,
            "max_height": null,
            "align_content": null,
            "visibility": null,
            "align_self": null,
            "height": null,
            "min_height": null,
            "padding": null,
            "grid_auto_rows": null,
            "grid_gap": null,
            "max_width": null,
            "order": null,
            "_view_module_version": "1.2.0",
            "grid_template_areas": null,
            "object_position": null,
            "object_fit": null,
            "grid_auto_columns": null,
            "margin": null,
            "display": null,
            "left": null
          }
        },
        "8b456a25eea64e408a313237e1c94070": {
          "model_module": "@jupyter-widgets/controls",
          "model_name": "HBoxModel",
          "state": {
            "_view_name": "HBoxView",
            "_dom_classes": [],
            "_model_name": "HBoxModel",
            "_view_module": "@jupyter-widgets/controls",
            "_model_module_version": "1.5.0",
            "_view_count": null,
            "_view_module_version": "1.5.0",
            "box_style": "",
            "layout": "IPY_MODEL_f8a5e450f3824b168ee4c7c04f5d75b5",
            "_model_module": "@jupyter-widgets/controls",
            "children": [
              "IPY_MODEL_86784b892b1b4e488804888c5d7b32d1",
              "IPY_MODEL_0126677ed80f4426a1114c9b550860aa"
            ]
          }
        },
        "f8a5e450f3824b168ee4c7c04f5d75b5": {
          "model_module": "@jupyter-widgets/base",
          "model_name": "LayoutModel",
          "state": {
            "_view_name": "LayoutView",
            "grid_template_rows": null,
            "right": null,
            "justify_content": null,
            "_view_module": "@jupyter-widgets/base",
            "overflow": null,
            "_model_module_version": "1.2.0",
            "_view_count": null,
            "flex_flow": null,
            "width": null,
            "min_width": null,
            "border": null,
            "align_items": null,
            "bottom": null,
            "_model_module": "@jupyter-widgets/base",
            "top": null,
            "grid_column": null,
            "overflow_y": null,
            "overflow_x": null,
            "grid_auto_flow": null,
            "grid_area": null,
            "grid_template_columns": null,
            "flex": null,
            "_model_name": "LayoutModel",
            "justify_items": null,
            "grid_row": null,
            "max_height": null,
            "align_content": null,
            "visibility": null,
            "align_self": null,
            "height": null,
            "min_height": null,
            "padding": null,
            "grid_auto_rows": null,
            "grid_gap": null,
            "max_width": null,
            "order": null,
            "_view_module_version": "1.2.0",
            "grid_template_areas": null,
            "object_position": null,
            "object_fit": null,
            "grid_auto_columns": null,
            "margin": null,
            "display": null,
            "left": null
          }
        },
        "86784b892b1b4e488804888c5d7b32d1": {
          "model_module": "@jupyter-widgets/controls",
          "model_name": "FloatProgressModel",
          "state": {
            "_view_name": "ProgressView",
            "style": "IPY_MODEL_b563153e70674686baace097859eb301",
            "_dom_classes": [],
            "description": "100%",
            "_model_name": "FloatProgressModel",
            "bar_style": "success",
            "max": 423,
            "_view_module": "@jupyter-widgets/controls",
            "_model_module_version": "1.5.0",
            "value": 423,
            "_view_count": null,
            "_view_module_version": "1.5.0",
            "orientation": "horizontal",
            "min": 0,
            "description_tooltip": null,
            "_model_module": "@jupyter-widgets/controls",
            "layout": "IPY_MODEL_a74064a29fac4847ba1744e8f827aced"
          }
        },
        "0126677ed80f4426a1114c9b550860aa": {
          "model_module": "@jupyter-widgets/controls",
          "model_name": "HTMLModel",
          "state": {
            "_view_name": "HTMLView",
            "style": "IPY_MODEL_150b90d4861445cd9c644ca5fba8d060",
            "_dom_classes": [],
            "description": "",
            "_model_name": "HTMLModel",
            "placeholder": "​",
            "_view_module": "@jupyter-widgets/controls",
            "_model_module_version": "1.5.0",
            "value": " 423/423 [07:44&lt;00:00,  1.10s/it]",
            "_view_count": null,
            "_view_module_version": "1.5.0",
            "description_tooltip": null,
            "_model_module": "@jupyter-widgets/controls",
            "layout": "IPY_MODEL_28c7813220fc4c96b7bb8fefd4863ebd"
          }
        },
        "b563153e70674686baace097859eb301": {
          "model_module": "@jupyter-widgets/controls",
          "model_name": "ProgressStyleModel",
          "state": {
            "_view_name": "StyleView",
            "_model_name": "ProgressStyleModel",
            "description_width": "initial",
            "_view_module": "@jupyter-widgets/base",
            "_model_module_version": "1.5.0",
            "_view_count": null,
            "_view_module_version": "1.2.0",
            "bar_color": null,
            "_model_module": "@jupyter-widgets/controls"
          }
        },
        "a74064a29fac4847ba1744e8f827aced": {
          "model_module": "@jupyter-widgets/base",
          "model_name": "LayoutModel",
          "state": {
            "_view_name": "LayoutView",
            "grid_template_rows": null,
            "right": null,
            "justify_content": null,
            "_view_module": "@jupyter-widgets/base",
            "overflow": null,
            "_model_module_version": "1.2.0",
            "_view_count": null,
            "flex_flow": null,
            "width": null,
            "min_width": null,
            "border": null,
            "align_items": null,
            "bottom": null,
            "_model_module": "@jupyter-widgets/base",
            "top": null,
            "grid_column": null,
            "overflow_y": null,
            "overflow_x": null,
            "grid_auto_flow": null,
            "grid_area": null,
            "grid_template_columns": null,
            "flex": null,
            "_model_name": "LayoutModel",
            "justify_items": null,
            "grid_row": null,
            "max_height": null,
            "align_content": null,
            "visibility": null,
            "align_self": null,
            "height": null,
            "min_height": null,
            "padding": null,
            "grid_auto_rows": null,
            "grid_gap": null,
            "max_width": null,
            "order": null,
            "_view_module_version": "1.2.0",
            "grid_template_areas": null,
            "object_position": null,
            "object_fit": null,
            "grid_auto_columns": null,
            "margin": null,
            "display": null,
            "left": null
          }
        },
        "150b90d4861445cd9c644ca5fba8d060": {
          "model_module": "@jupyter-widgets/controls",
          "model_name": "DescriptionStyleModel",
          "state": {
            "_view_name": "StyleView",
            "_model_name": "DescriptionStyleModel",
            "description_width": "",
            "_view_module": "@jupyter-widgets/base",
            "_model_module_version": "1.5.0",
            "_view_count": null,
            "_view_module_version": "1.2.0",
            "_model_module": "@jupyter-widgets/controls"
          }
        },
        "28c7813220fc4c96b7bb8fefd4863ebd": {
          "model_module": "@jupyter-widgets/base",
          "model_name": "LayoutModel",
          "state": {
            "_view_name": "LayoutView",
            "grid_template_rows": null,
            "right": null,
            "justify_content": null,
            "_view_module": "@jupyter-widgets/base",
            "overflow": null,
            "_model_module_version": "1.2.0",
            "_view_count": null,
            "flex_flow": null,
            "width": null,
            "min_width": null,
            "border": null,
            "align_items": null,
            "bottom": null,
            "_model_module": "@jupyter-widgets/base",
            "top": null,
            "grid_column": null,
            "overflow_y": null,
            "overflow_x": null,
            "grid_auto_flow": null,
            "grid_area": null,
            "grid_template_columns": null,
            "flex": null,
            "_model_name": "LayoutModel",
            "justify_items": null,
            "grid_row": null,
            "max_height": null,
            "align_content": null,
            "visibility": null,
            "align_self": null,
            "height": null,
            "min_height": null,
            "padding": null,
            "grid_auto_rows": null,
            "grid_gap": null,
            "max_width": null,
            "order": null,
            "_view_module_version": "1.2.0",
            "grid_template_areas": null,
            "object_position": null,
            "object_fit": null,
            "grid_auto_columns": null,
            "margin": null,
            "display": null,
            "left": null
          }
        },
        "7a55b35c22114738b187fda010bb613b": {
          "model_module": "@jupyter-widgets/controls",
          "model_name": "HBoxModel",
          "state": {
            "_view_name": "HBoxView",
            "_dom_classes": [],
            "_model_name": "HBoxModel",
            "_view_module": "@jupyter-widgets/controls",
            "_model_module_version": "1.5.0",
            "_view_count": null,
            "_view_module_version": "1.5.0",
            "box_style": "",
            "layout": "IPY_MODEL_22cc3d19894a45d68c78070c61bdd3aa",
            "_model_module": "@jupyter-widgets/controls",
            "children": [
              "IPY_MODEL_e1bd3d2766584ec1be78d6bc398a030c",
              "IPY_MODEL_bd6e6a7fec314dd29c431ecc5bf15b4c"
            ]
          }
        },
        "22cc3d19894a45d68c78070c61bdd3aa": {
          "model_module": "@jupyter-widgets/base",
          "model_name": "LayoutModel",
          "state": {
            "_view_name": "LayoutView",
            "grid_template_rows": null,
            "right": null,
            "justify_content": null,
            "_view_module": "@jupyter-widgets/base",
            "overflow": null,
            "_model_module_version": "1.2.0",
            "_view_count": null,
            "flex_flow": null,
            "width": null,
            "min_width": null,
            "border": null,
            "align_items": null,
            "bottom": null,
            "_model_module": "@jupyter-widgets/base",
            "top": null,
            "grid_column": null,
            "overflow_y": null,
            "overflow_x": null,
            "grid_auto_flow": null,
            "grid_area": null,
            "grid_template_columns": null,
            "flex": null,
            "_model_name": "LayoutModel",
            "justify_items": null,
            "grid_row": null,
            "max_height": null,
            "align_content": null,
            "visibility": null,
            "align_self": null,
            "height": null,
            "min_height": null,
            "padding": null,
            "grid_auto_rows": null,
            "grid_gap": null,
            "max_width": null,
            "order": null,
            "_view_module_version": "1.2.0",
            "grid_template_areas": null,
            "object_position": null,
            "object_fit": null,
            "grid_auto_columns": null,
            "margin": null,
            "display": null,
            "left": null
          }
        },
        "e1bd3d2766584ec1be78d6bc398a030c": {
          "model_module": "@jupyter-widgets/controls",
          "model_name": "FloatProgressModel",
          "state": {
            "_view_name": "ProgressView",
            "style": "IPY_MODEL_aeffdba5cc464e70995266db602fcff2",
            "_dom_classes": [],
            "description": "100%",
            "_model_name": "FloatProgressModel",
            "bar_style": "success",
            "max": 423,
            "_view_module": "@jupyter-widgets/controls",
            "_model_module_version": "1.5.0",
            "value": 423,
            "_view_count": null,
            "_view_module_version": "1.5.0",
            "orientation": "horizontal",
            "min": 0,
            "description_tooltip": null,
            "_model_module": "@jupyter-widgets/controls",
            "layout": "IPY_MODEL_37df35e53bcf4a6a929ef8b689193218"
          }
        },
        "bd6e6a7fec314dd29c431ecc5bf15b4c": {
          "model_module": "@jupyter-widgets/controls",
          "model_name": "HTMLModel",
          "state": {
            "_view_name": "HTMLView",
            "style": "IPY_MODEL_867afbdb53f04f4691f46adb99fddc75",
            "_dom_classes": [],
            "description": "",
            "_model_name": "HTMLModel",
            "placeholder": "​",
            "_view_module": "@jupyter-widgets/controls",
            "_model_module_version": "1.5.0",
            "value": " 423/423 [06:15&lt;00:00,  1.13it/s]",
            "_view_count": null,
            "_view_module_version": "1.5.0",
            "description_tooltip": null,
            "_model_module": "@jupyter-widgets/controls",
            "layout": "IPY_MODEL_2ecba87489bc412a9513de213f540d4f"
          }
        },
        "aeffdba5cc464e70995266db602fcff2": {
          "model_module": "@jupyter-widgets/controls",
          "model_name": "ProgressStyleModel",
          "state": {
            "_view_name": "StyleView",
            "_model_name": "ProgressStyleModel",
            "description_width": "initial",
            "_view_module": "@jupyter-widgets/base",
            "_model_module_version": "1.5.0",
            "_view_count": null,
            "_view_module_version": "1.2.0",
            "bar_color": null,
            "_model_module": "@jupyter-widgets/controls"
          }
        },
        "37df35e53bcf4a6a929ef8b689193218": {
          "model_module": "@jupyter-widgets/base",
          "model_name": "LayoutModel",
          "state": {
            "_view_name": "LayoutView",
            "grid_template_rows": null,
            "right": null,
            "justify_content": null,
            "_view_module": "@jupyter-widgets/base",
            "overflow": null,
            "_model_module_version": "1.2.0",
            "_view_count": null,
            "flex_flow": null,
            "width": null,
            "min_width": null,
            "border": null,
            "align_items": null,
            "bottom": null,
            "_model_module": "@jupyter-widgets/base",
            "top": null,
            "grid_column": null,
            "overflow_y": null,
            "overflow_x": null,
            "grid_auto_flow": null,
            "grid_area": null,
            "grid_template_columns": null,
            "flex": null,
            "_model_name": "LayoutModel",
            "justify_items": null,
            "grid_row": null,
            "max_height": null,
            "align_content": null,
            "visibility": null,
            "align_self": null,
            "height": null,
            "min_height": null,
            "padding": null,
            "grid_auto_rows": null,
            "grid_gap": null,
            "max_width": null,
            "order": null,
            "_view_module_version": "1.2.0",
            "grid_template_areas": null,
            "object_position": null,
            "object_fit": null,
            "grid_auto_columns": null,
            "margin": null,
            "display": null,
            "left": null
          }
        },
        "867afbdb53f04f4691f46adb99fddc75": {
          "model_module": "@jupyter-widgets/controls",
          "model_name": "DescriptionStyleModel",
          "state": {
            "_view_name": "StyleView",
            "_model_name": "DescriptionStyleModel",
            "description_width": "",
            "_view_module": "@jupyter-widgets/base",
            "_model_module_version": "1.5.0",
            "_view_count": null,
            "_view_module_version": "1.2.0",
            "_model_module": "@jupyter-widgets/controls"
          }
        },
        "2ecba87489bc412a9513de213f540d4f": {
          "model_module": "@jupyter-widgets/base",
          "model_name": "LayoutModel",
          "state": {
            "_view_name": "LayoutView",
            "grid_template_rows": null,
            "right": null,
            "justify_content": null,
            "_view_module": "@jupyter-widgets/base",
            "overflow": null,
            "_model_module_version": "1.2.0",
            "_view_count": null,
            "flex_flow": null,
            "width": null,
            "min_width": null,
            "border": null,
            "align_items": null,
            "bottom": null,
            "_model_module": "@jupyter-widgets/base",
            "top": null,
            "grid_column": null,
            "overflow_y": null,
            "overflow_x": null,
            "grid_auto_flow": null,
            "grid_area": null,
            "grid_template_columns": null,
            "flex": null,
            "_model_name": "LayoutModel",
            "justify_items": null,
            "grid_row": null,
            "max_height": null,
            "align_content": null,
            "visibility": null,
            "align_self": null,
            "height": null,
            "min_height": null,
            "padding": null,
            "grid_auto_rows": null,
            "grid_gap": null,
            "max_width": null,
            "order": null,
            "_view_module_version": "1.2.0",
            "grid_template_areas": null,
            "object_position": null,
            "object_fit": null,
            "grid_auto_columns": null,
            "margin": null,
            "display": null,
            "left": null
          }
        },
        "fe981271a4bd49489fecf12bc1681c1d": {
          "model_module": "@jupyter-widgets/controls",
          "model_name": "HBoxModel",
          "state": {
            "_view_name": "HBoxView",
            "_dom_classes": [],
            "_model_name": "HBoxModel",
            "_view_module": "@jupyter-widgets/controls",
            "_model_module_version": "1.5.0",
            "_view_count": null,
            "_view_module_version": "1.5.0",
            "box_style": "",
            "layout": "IPY_MODEL_b0647bd0f8964003a7422867f62f9d1d",
            "_model_module": "@jupyter-widgets/controls",
            "children": [
              "IPY_MODEL_507aeeebea534566bfa520d0531dc29a",
              "IPY_MODEL_437c9790b2914e30bbc0a68e9d8126e4"
            ]
          }
        },
        "b0647bd0f8964003a7422867f62f9d1d": {
          "model_module": "@jupyter-widgets/base",
          "model_name": "LayoutModel",
          "state": {
            "_view_name": "LayoutView",
            "grid_template_rows": null,
            "right": null,
            "justify_content": null,
            "_view_module": "@jupyter-widgets/base",
            "overflow": null,
            "_model_module_version": "1.2.0",
            "_view_count": null,
            "flex_flow": null,
            "width": null,
            "min_width": null,
            "border": null,
            "align_items": null,
            "bottom": null,
            "_model_module": "@jupyter-widgets/base",
            "top": null,
            "grid_column": null,
            "overflow_y": null,
            "overflow_x": null,
            "grid_auto_flow": null,
            "grid_area": null,
            "grid_template_columns": null,
            "flex": null,
            "_model_name": "LayoutModel",
            "justify_items": null,
            "grid_row": null,
            "max_height": null,
            "align_content": null,
            "visibility": null,
            "align_self": null,
            "height": null,
            "min_height": null,
            "padding": null,
            "grid_auto_rows": null,
            "grid_gap": null,
            "max_width": null,
            "order": null,
            "_view_module_version": "1.2.0",
            "grid_template_areas": null,
            "object_position": null,
            "object_fit": null,
            "grid_auto_columns": null,
            "margin": null,
            "display": null,
            "left": null
          }
        },
        "507aeeebea534566bfa520d0531dc29a": {
          "model_module": "@jupyter-widgets/controls",
          "model_name": "FloatProgressModel",
          "state": {
            "_view_name": "ProgressView",
            "style": "IPY_MODEL_c95f5105cb0642daa0825c13259a7514",
            "_dom_classes": [],
            "description": "100%",
            "_model_name": "FloatProgressModel",
            "bar_style": "success",
            "max": 1,
            "_view_module": "@jupyter-widgets/controls",
            "_model_module_version": "1.5.0",
            "value": 1,
            "_view_count": null,
            "_view_module_version": "1.5.0",
            "orientation": "horizontal",
            "min": 0,
            "description_tooltip": null,
            "_model_module": "@jupyter-widgets/controls",
            "layout": "IPY_MODEL_b821e4f570ab495c98b9d69d8a95dad3"
          }
        },
        "437c9790b2914e30bbc0a68e9d8126e4": {
          "model_module": "@jupyter-widgets/controls",
          "model_name": "HTMLModel",
          "state": {
            "_view_name": "HTMLView",
            "style": "IPY_MODEL_f2a6cf1eb2a74d718fb2e0f1e4f5c064",
            "_dom_classes": [],
            "description": "",
            "_model_name": "HTMLModel",
            "placeholder": "​",
            "_view_module": "@jupyter-widgets/controls",
            "_model_module_version": "1.5.0",
            "value": " 1/1 [08:18&lt;00:00, 498.90s/it]",
            "_view_count": null,
            "_view_module_version": "1.5.0",
            "description_tooltip": null,
            "_model_module": "@jupyter-widgets/controls",
            "layout": "IPY_MODEL_4239795e0e37492d93b608f25d6a6435"
          }
        },
        "c95f5105cb0642daa0825c13259a7514": {
          "model_module": "@jupyter-widgets/controls",
          "model_name": "ProgressStyleModel",
          "state": {
            "_view_name": "StyleView",
            "_model_name": "ProgressStyleModel",
            "description_width": "initial",
            "_view_module": "@jupyter-widgets/base",
            "_model_module_version": "1.5.0",
            "_view_count": null,
            "_view_module_version": "1.2.0",
            "bar_color": null,
            "_model_module": "@jupyter-widgets/controls"
          }
        },
        "b821e4f570ab495c98b9d69d8a95dad3": {
          "model_module": "@jupyter-widgets/base",
          "model_name": "LayoutModel",
          "state": {
            "_view_name": "LayoutView",
            "grid_template_rows": null,
            "right": null,
            "justify_content": null,
            "_view_module": "@jupyter-widgets/base",
            "overflow": null,
            "_model_module_version": "1.2.0",
            "_view_count": null,
            "flex_flow": null,
            "width": null,
            "min_width": null,
            "border": null,
            "align_items": null,
            "bottom": null,
            "_model_module": "@jupyter-widgets/base",
            "top": null,
            "grid_column": null,
            "overflow_y": null,
            "overflow_x": null,
            "grid_auto_flow": null,
            "grid_area": null,
            "grid_template_columns": null,
            "flex": null,
            "_model_name": "LayoutModel",
            "justify_items": null,
            "grid_row": null,
            "max_height": null,
            "align_content": null,
            "visibility": null,
            "align_self": null,
            "height": null,
            "min_height": null,
            "padding": null,
            "grid_auto_rows": null,
            "grid_gap": null,
            "max_width": null,
            "order": null,
            "_view_module_version": "1.2.0",
            "grid_template_areas": null,
            "object_position": null,
            "object_fit": null,
            "grid_auto_columns": null,
            "margin": null,
            "display": null,
            "left": null
          }
        },
        "f2a6cf1eb2a74d718fb2e0f1e4f5c064": {
          "model_module": "@jupyter-widgets/controls",
          "model_name": "DescriptionStyleModel",
          "state": {
            "_view_name": "StyleView",
            "_model_name": "DescriptionStyleModel",
            "description_width": "",
            "_view_module": "@jupyter-widgets/base",
            "_model_module_version": "1.5.0",
            "_view_count": null,
            "_view_module_version": "1.2.0",
            "_model_module": "@jupyter-widgets/controls"
          }
        },
        "4239795e0e37492d93b608f25d6a6435": {
          "model_module": "@jupyter-widgets/base",
          "model_name": "LayoutModel",
          "state": {
            "_view_name": "LayoutView",
            "grid_template_rows": null,
            "right": null,
            "justify_content": null,
            "_view_module": "@jupyter-widgets/base",
            "overflow": null,
            "_model_module_version": "1.2.0",
            "_view_count": null,
            "flex_flow": null,
            "width": null,
            "min_width": null,
            "border": null,
            "align_items": null,
            "bottom": null,
            "_model_module": "@jupyter-widgets/base",
            "top": null,
            "grid_column": null,
            "overflow_y": null,
            "overflow_x": null,
            "grid_auto_flow": null,
            "grid_area": null,
            "grid_template_columns": null,
            "flex": null,
            "_model_name": "LayoutModel",
            "justify_items": null,
            "grid_row": null,
            "max_height": null,
            "align_content": null,
            "visibility": null,
            "align_self": null,
            "height": null,
            "min_height": null,
            "padding": null,
            "grid_auto_rows": null,
            "grid_gap": null,
            "max_width": null,
            "order": null,
            "_view_module_version": "1.2.0",
            "grid_template_areas": null,
            "object_position": null,
            "object_fit": null,
            "grid_auto_columns": null,
            "margin": null,
            "display": null,
            "left": null
          }
        }
      }
    }
  },
  "cells": [
    {
      "cell_type": "markdown",
      "metadata": {
        "id": "Brvzk1Ko0wiQ"
      },
      "source": [
        "## TO DO List\n",
        "#### Learn more about DatasetSplit \n",
        "#### Implement KD with TA\n",
        "#### Reduce time for training "
      ]
    },
    {
      "cell_type": "markdown",
      "metadata": {
        "id": "lgsYQ88lSKkv"
      },
      "source": [
        "# Libraries and Data Preparation"
      ]
    },
    {
      "cell_type": "code",
      "metadata": {
        "id": "LyP_eyA5OYDs"
      },
      "source": [
        "%%capture\n",
        "! apt-get install libavformat-dev libavdevice-dev\n",
        "! pip install av==6.2.0\n",
        "! wget http://serre-lab.clps.brown.edu/wp-content/uploads/2013/10/hmdb51_org.rar\n",
        "! wget http://serre-lab.clps.brown.edu/wp-content/uploads/2013/10/test_train_splits.rar\n",
        "! wget https://raw.githubusercontent.com/pytorch/vision/6de158c473b83cf43344a0651d7c01128c7850e6/references/video_classification/transforms.py\n",
        "import transforms as T"
      ],
      "execution_count": null,
      "outputs": []
    },
    {
      "cell_type": "code",
      "metadata": {
        "id": "QE0mnhzYOakH",
        "colab": {
          "base_uri": "https://localhost:8080/"
        },
        "outputId": "bcb429cf-9427-4a9c-a917-7af95149311e"
      },
      "source": [
        "import torch\n",
        "import torch.nn as nn\n",
        "from torch.nn import functional as F\n",
        "from torch.utils.data import DataLoader, Dataset\n",
        "import torchvision\n",
        "from torchvision import get_video_backend, transforms\n",
        "from torchvision.models.video import r3d_18 \n",
        "import os\n",
        "from tqdm.auto import tqdm\n",
        "import numpy as np\n",
        "import time\n",
        "import av\n",
        "import random\n",
        "print(f\"PyAV version -- {av.__version__}\")\n",
        "device = torch.device('cuda' if torch.cuda.is_available() else 'cpu')\n",
        "print('Using device:', device)\n",
        "\n",
        "SEED = 1\n",
        "torch.manual_seed(SEED)\n",
        "np.random.seed(SEED)\n",
        "torch.cuda.manual_seed(SEED)\n",
        "\n",
        "import copy\n",
        "import warnings\n",
        "warnings.filterwarnings('ignore')\n",
        "from matplotlib import pyplot as plt\n",
        "%matplotlib inline"
      ],
      "execution_count": null,
      "outputs": [
        {
          "output_type": "stream",
          "text": [
            "PyAV version -- 6.2.0\n",
            "Using device: cuda\n"
          ],
          "name": "stdout"
        }
      ]
    },
    {
      "cell_type": "code",
      "metadata": {
        "id": "jeRb52LMQ6cq",
        "colab": {
          "base_uri": "https://localhost:8080/"
        },
        "outputId": "fa1d6311-ab86-4565-b5e7-e306d26f426c"
      },
      "source": [
        "! mkdir -p video_data test_train_splits\n",
        "! unrar e test_train_splits.rar test_train_splits\n",
        "! rm test_train_splits.rar\n",
        "! unrar e hmdb51_org.rar \n",
        "! rm hmdb51_org.rar\n",
        "! mv *.rar video_data\n",
        "for files in os.listdir('video_data'):\n",
        "    foldername = files.split('.')[0]\n",
        "    os.system(\"mkdir -p video_data/\" + foldername)\n",
        "    os.system(\"unrar e video_data/\"+ files + \" video_data/\"+foldername)\n",
        "\n",
        "! rm video_data/*.rar "
      ],
      "execution_count": null,
      "outputs": [
        {
          "output_type": "stream",
          "text": [
            "\n",
            "UNRAR 5.50 freeware      Copyright (c) 1993-2017 Alexander Roshal\n",
            "\n",
            "\n",
            "Extracting from test_train_splits.rar\n",
            "\n",
            "Extracting  test_train_splits/brush_hair_test_split1.txt                 \b\b\b\b  0%\b\b\b\b\b  OK \n",
            "Extracting  test_train_splits/brush_hair_test_split2.txt                 \b\b\b\b  1%\b\b\b\b\b  OK \n",
            "Extracting  test_train_splits/brush_hair_test_split3.txt                 \b\b\b\b  1%\b\b\b\b\b  OK \n",
            "Extracting  test_train_splits/cartwheel_test_split1.txt                  \b\b\b\b  2%\b\b\b\b\b  OK \n",
            "Extracting  test_train_splits/cartwheel_test_split2.txt                  \b\b\b\b  2%\b\b\b\b\b  OK \n",
            "Extracting  test_train_splits/cartwheel_test_split3.txt                  \b\b\b\b  3%\b\b\b\b\b  OK \n",
            "Extracting  test_train_splits/catch_test_split1.txt                      \b\b\b\b  4%\b\b\b\b\b  OK \n",
            "Extracting  test_train_splits/catch_test_split2.txt                      \b\b\b\b  4%\b\b\b\b\b  OK \n",
            "Extracting  test_train_splits/catch_test_split3.txt                      \b\b\b\b  5%\b\b\b\b\b  OK \n",
            "Extracting  test_train_splits/chew_test_split1.txt                       \b\b\b\b  5%\b\b\b\b\b  OK \n",
            "Extracting  test_train_splits/chew_test_split2.txt                       \b\b\b\b  6%\b\b\b\b\b  OK \n",
            "Extracting  test_train_splits/chew_test_split3.txt                       \b\b\b\b  6%\b\b\b\b\b  OK \n",
            "Extracting  test_train_splits/clap_test_split1.txt                       \b\b\b\b  7%\b\b\b\b\b  OK \n",
            "Extracting  test_train_splits/clap_test_split2.txt                       \b\b\b\b  7%\b\b\b\b\b  OK \n",
            "Extracting  test_train_splits/clap_test_split3.txt                       \b\b\b\b  8%\b\b\b\b\b  OK \n",
            "Extracting  test_train_splits/climb_stairs_test_split1.txt               \b\b\b\b  9%\b\b\b\b\b  OK \n",
            "Extracting  test_train_splits/climb_stairs_test_split2.txt               \b\b\b\b 10%\b\b\b\b\b  OK \n",
            "Extracting  test_train_splits/climb_stairs_test_split3.txt               \b\b\b\b 10%\b\b\b\b\b  OK \n",
            "Extracting  test_train_splits/climb_test_split1.txt                      \b\b\b\b 11%\b\b\b\b\b  OK \n",
            "Extracting  test_train_splits/climb_test_split2.txt                      \b\b\b\b 12%\b\b\b\b\b  OK \n",
            "Extracting  test_train_splits/climb_test_split3.txt                      \b\b\b\b 12%\b\b\b\b\b  OK \n",
            "Extracting  test_train_splits/dive_test_split1.txt                       \b\b\b\b 13%\b\b\b\b\b  OK \n",
            "Extracting  test_train_splits/dive_test_split2.txt                       \b\b\b\b 14%\b\b\b\b\b  OK \n",
            "Extracting  test_train_splits/dive_test_split3.txt                       \b\b\b\b 14%\b\b\b\b\b  OK \n",
            "Extracting  test_train_splits/draw_sword_test_split1.txt                 \b\b\b\b 15%\b\b\b\b\b  OK \n",
            "Extracting  test_train_splits/draw_sword_test_split2.txt                 \b\b\b\b 15%\b\b\b\b\b  OK \n",
            "Extracting  test_train_splits/draw_sword_test_split3.txt                 \b\b\b\b 16%\b\b\b\b\b  OK \n",
            "Extracting  test_train_splits/dribble_test_split1.txt                    \b\b\b\b 17%\b\b\b\b\b  OK \n",
            "Extracting  test_train_splits/dribble_test_split2.txt                    \b\b\b\b 17%\b\b\b\b\b  OK \n",
            "Extracting  test_train_splits/dribble_test_split3.txt                    \b\b\b\b 18%\b\b\b\b\b  OK \n",
            "Extracting  test_train_splits/drink_test_split1.txt                      \b\b\b\b 19%\b\b\b\b\b  OK \n",
            "Extracting  test_train_splits/drink_test_split2.txt                      \b\b\b\b 20%\b\b\b\b\b  OK \n",
            "Extracting  test_train_splits/drink_test_split3.txt                      \b\b\b\b 20%\b\b\b\b\b  OK \n",
            "Extracting  test_train_splits/eat_test_split1.txt                        \b\b\b\b 21%\b\b\b\b\b  OK \n",
            "Extracting  test_train_splits/eat_test_split2.txt                        \b\b\b\b 21%\b\b\b\b\b  OK \n",
            "Extracting  test_train_splits/eat_test_split3.txt                        \b\b\b\b 22%\b\b\b\b\b  OK \n",
            "Extracting  test_train_splits/fall_floor_test_split1.txt                 \b\b\b\b 23%\b\b\b\b\b  OK \n",
            "Extracting  test_train_splits/fall_floor_test_split2.txt                 \b\b\b\b 23%\b\b\b\b\b  OK \n",
            "Extracting  test_train_splits/fall_floor_test_split3.txt                 \b\b\b\b 24%\b\b\b\b\b  OK \n",
            "Extracting  test_train_splits/fencing_test_split1.txt                    \b\b\b\b 25%\b\b\b\b\b  OK \n",
            "Extracting  test_train_splits/fencing_test_split2.txt                    \b\b\b\b 25%\b\b\b\b\b  OK \n",
            "Extracting  test_train_splits/fencing_test_split3.txt                    \b\b\b\b 26%\b\b\b\b\b  OK \n",
            "Extracting  test_train_splits/flic_flac_test_split1.txt                  \b\b\b\b 26%\b\b\b\b\b  OK \n",
            "Extracting  test_train_splits/flic_flac_test_split2.txt                  \b\b\b\b 27%\b\b\b\b\b  OK \n",
            "Extracting  test_train_splits/flic_flac_test_split3.txt                  \b\b\b\b 27%\b\b\b\b\b  OK \n",
            "Extracting  test_train_splits/golf_test_split1.txt                       \b\b\b\b 28%\b\b\b\b\b  OK \n",
            "Extracting  test_train_splits/golf_test_split2.txt                       \b\b\b\b 29%\b\b\b\b\b  OK \n",
            "Extracting  test_train_splits/golf_test_split3.txt                       \b\b\b\b 29%\b\b\b\b\b  OK \n",
            "Extracting  test_train_splits/handstand_test_split1.txt                  \b\b\b\b 30%\b\b\b\b\b  OK \n",
            "Extracting  test_train_splits/handstand_test_split2.txt                  \b\b\b\b 31%\b\b\b\b\b  OK \n",
            "Extracting  test_train_splits/handstand_test_split3.txt                  \b\b\b\b 32%\b\b\b\b\b  OK \n",
            "Extracting  test_train_splits/hit_test_split1.txt                        \b\b\b\b 32%\b\b\b\b\b  OK \n",
            "Extracting  test_train_splits/hit_test_split2.txt                        \b\b\b\b 33%\b\b\b\b\b  OK \n",
            "Extracting  test_train_splits/hit_test_split3.txt                        \b\b\b\b 34%\b\b\b\b\b  OK \n",
            "Extracting  test_train_splits/hug_test_split1.txt                        \b\b\b\b 34%\b\b\b\b\b  OK \n",
            "Extracting  test_train_splits/hug_test_split2.txt                        \b\b\b\b 35%\b\b\b\b\b  OK \n",
            "Extracting  test_train_splits/hug_test_split3.txt                        \b\b\b\b 35%\b\b\b\b\b  OK \n",
            "Extracting  test_train_splits/jump_test_split1.txt                       \b\b\b\b 36%\b\b\b\b\b  OK \n",
            "Extracting  test_train_splits/jump_test_split2.txt                       \b\b\b\b 37%\b\b\b\b\b  OK \n",
            "Extracting  test_train_splits/jump_test_split3.txt                       \b\b\b\b 37%\b\b\b\b\b  OK \n",
            "Extracting  test_train_splits/kick_ball_test_split1.txt                  \b\b\b\b 38%\b\b\b\b\b  OK \n",
            "Extracting  test_train_splits/kick_ball_test_split2.txt                  \b\b\b\b 39%\b\b\b\b\b  OK \n",
            "Extracting  test_train_splits/kick_ball_test_split3.txt                  \b\b\b\b 40%\b\b\b\b\b  OK \n",
            "Extracting  test_train_splits/kick_test_split1.txt                       \b\b\b\b 40%\b\b\b\b\b  OK \n",
            "Extracting  test_train_splits/kick_test_split2.txt                       \b\b\b\b 41%\b\b\b\b\b  OK \n",
            "Extracting  test_train_splits/kick_test_split3.txt                       \b\b\b\b 41%\b\b\b\b\b  OK \n",
            "Extracting  test_train_splits/kiss_test_split1.txt                       \b\b\b\b 42%\b\b\b\b\b  OK \n",
            "Extracting  test_train_splits/kiss_test_split2.txt                       \b\b\b\b 42%\b\b\b\b\b  OK \n",
            "Extracting  test_train_splits/kiss_test_split3.txt                       \b\b\b\b 42%\b\b\b\b\b  OK \n",
            "Extracting  test_train_splits/laugh_test_split1.txt                      \b\b\b\b 43%\b\b\b\b\b  OK \n",
            "Extracting  test_train_splits/laugh_test_split2.txt                      \b\b\b\b 43%\b\b\b\b\b  OK \n",
            "Extracting  test_train_splits/laugh_test_split3.txt                      \b\b\b\b 44%\b\b\b\b\b  OK \n",
            "Extracting  test_train_splits/pick_test_split1.txt                       \b\b\b\b 45%\b\b\b\b\b  OK \n",
            "Extracting  test_train_splits/pick_test_split2.txt                       \b\b\b\b 45%\b\b\b\b\b  OK \n",
            "Extracting  test_train_splits/pick_test_split3.txt                       \b\b\b\b 46%\b\b\b\b\b  OK \n",
            "Extracting  test_train_splits/pour_test_split1.txt                       \b\b\b\b 47%\b\b\b\b\b  OK \n",
            "Extracting  test_train_splits/pour_test_split2.txt                       \b\b\b\b 48%\b\b\b\b\b  OK \n",
            "Extracting  test_train_splits/pour_test_split3.txt                       \b\b\b\b 48%\b\b\b\b\b  OK \n",
            "Extracting  test_train_splits/pullup_test_split1.txt                     \b\b\b\b 49%\b\b\b\b\b  OK \n",
            "Extracting  test_train_splits/pullup_test_split2.txt                     \b\b\b\b 49%\b\b\b\b\b  OK \n",
            "Extracting  test_train_splits/pullup_test_split3.txt                     \b\b\b\b 50%\b\b\b\b\b  OK \n",
            "Extracting  test_train_splits/punch_test_split1.txt                      \b\b\b\b 50%\b\b\b\b\b  OK \n",
            "Extracting  test_train_splits/punch_test_split2.txt                      \b\b\b\b 51%\b\b\b\b\b  OK \n",
            "Extracting  test_train_splits/punch_test_split3.txt                      \b\b\b\b 52%\b\b\b\b\b  OK \n",
            "Extracting  test_train_splits/pushup_test_split1.txt                     \b\b\b\b 52%\b\b\b\b\b  OK \n",
            "Extracting  test_train_splits/pushup_test_split2.txt                     \b\b\b\b 53%\b\b\b\b\b  OK \n",
            "Extracting  test_train_splits/pushup_test_split3.txt                     \b\b\b\b 53%\b\b\b\b\b  OK \n",
            "Extracting  test_train_splits/push_test_split1.txt                       \b\b\b\b 54%\b\b\b\b\b  OK \n",
            "Extracting  test_train_splits/push_test_split2.txt                       \b\b\b\b 54%\b\b\b\b\b  OK \n",
            "Extracting  test_train_splits/push_test_split3.txt                       \b\b\b\b 55%\b\b\b\b\b  OK \n",
            "Extracting  test_train_splits/ride_bike_test_split1.txt                  \b\b\b\b 55%\b\b\b\b\b  OK \n",
            "Extracting  test_train_splits/ride_bike_test_split2.txt                  \b\b\b\b 56%\b\b\b\b\b  OK \n",
            "Extracting  test_train_splits/ride_bike_test_split3.txt                  \b\b\b\b 56%\b\b\b\b\b  OK \n",
            "Extracting  test_train_splits/ride_horse_test_split1.txt                 \b\b\b\b 56%\b\b\b\b\b  OK \n",
            "Extracting  test_train_splits/ride_horse_test_split2.txt                 \b\b\b\b 57%\b\b\b\b\b  OK \n",
            "Extracting  test_train_splits/ride_horse_test_split3.txt                 \b\b\b\b 57%\b\b\b\b\b  OK \n",
            "Extracting  test_train_splits/run_test_split1.txt                        \b\b\b\b 58%\b\b\b\b\b  OK \n",
            "Extracting  test_train_splits/run_test_split2.txt                        \b\b\b\b 59%\b\b\b\b\b  OK \n",
            "Extracting  test_train_splits/run_test_split3.txt                        \b\b\b\b 60%\b\b\b\b\b  OK \n",
            "Extracting  test_train_splits/shake_hands_test_split1.txt                \b\b\b\b 62%\b\b\b\b\b  OK \n",
            "Extracting  test_train_splits/shake_hands_test_split2.txt                \b\b\b\b 63%\b\b\b\b\b  OK \n",
            "Extracting  test_train_splits/shake_hands_test_split3.txt                \b\b\b\b 64%\b\b\b\b\b  OK \n",
            "Extracting  test_train_splits/shoot_ball_test_split1.txt                 \b\b\b\b 64%\b\b\b\b\b  OK \n",
            "Extracting  test_train_splits/shoot_ball_test_split2.txt                 \b\b\b\b 65%\b\b\b\b\b  OK \n",
            "Extracting  test_train_splits/shoot_ball_test_split3.txt                 \b\b\b\b 65%\b\b\b\b\b  OK \n",
            "Extracting  test_train_splits/shoot_bow_test_split1.txt                  \b\b\b\b 66%\b\b\b\b\b  OK \n",
            "Extracting  test_train_splits/shoot_bow_test_split2.txt                  \b\b\b\b 66%\b\b\b\b\b  OK \n",
            "Extracting  test_train_splits/shoot_bow_test_split3.txt                  \b\b\b\b 67%\b\b\b\b\b  OK \n",
            "Extracting  test_train_splits/shoot_gun_test_split1.txt                  \b\b\b\b 67%\b\b\b\b\b  OK \n",
            "Extracting  test_train_splits/shoot_gun_test_split2.txt                  \b\b\b\b 67%\b\b\b\b\b  OK \n",
            "Extracting  test_train_splits/shoot_gun_test_split3.txt                  \b\b\b\b 68%\b\b\b\b\b  OK \n",
            "Extracting  test_train_splits/situp_test_split1.txt                      \b\b\b\b 69%\b\b\b\b\b  OK \n",
            "Extracting  test_train_splits/situp_test_split2.txt                      \b\b\b\b 69%\b\b\b\b\b  OK \n",
            "Extracting  test_train_splits/situp_test_split3.txt                      \b\b\b\b 70%\b\b\b\b\b  OK \n",
            "Extracting  test_train_splits/sit_test_split1.txt                        \b\b\b\b 71%\b\b\b\b\b  OK \n",
            "Extracting  test_train_splits/sit_test_split2.txt                        \b\b\b\b 71%\b\b\b\b\b  OK \n",
            "Extracting  test_train_splits/sit_test_split3.txt                        \b\b\b\b 72%\b\b\b\b\b  OK \n",
            "Extracting  test_train_splits/smile_test_split1.txt                      \b\b\b\b 73%\b\b\b\b\b  OK \n",
            "Extracting  test_train_splits/smile_test_split2.txt                      \b\b\b\b 73%\b\b\b\b\b  OK \n",
            "Extracting  test_train_splits/smile_test_split3.txt                      \b\b\b\b 73%\b\b\b\b\b  OK \n",
            "Extracting  test_train_splits/smoke_test_split1.txt                      \b\b\b\b 74%\b\b\b\b\b  OK \n",
            "Extracting  test_train_splits/smoke_test_split2.txt                      \b\b\b\b 74%\b\b\b\b\b  OK \n",
            "Extracting  test_train_splits/smoke_test_split3.txt                      \b\b\b\b 75%\b\b\b\b\b  OK \n",
            "Extracting  test_train_splits/somersault_test_split1.txt                 \b\b\b\b 76%\b\b\b\b\b  OK \n",
            "Extracting  test_train_splits/somersault_test_split2.txt                 \b\b\b\b 76%\b\b\b\b\b  OK \n",
            "Extracting  test_train_splits/somersault_test_split3.txt                 \b\b\b\b 77%\b\b\b\b\b  OK \n",
            "Extracting  test_train_splits/stand_test_split1.txt                      \b\b\b\b 78%\b\b\b\b\b  OK \n",
            "Extracting  test_train_splits/stand_test_split2.txt                      \b\b\b\b 79%\b\b\b\b\b  OK \n",
            "Extracting  test_train_splits/stand_test_split3.txt                      \b\b\b\b 80%\b\b\b\b\b  OK \n",
            "Extracting  test_train_splits/swing_baseball_test_split1.txt             \b\b\b\b 80%\b\b\b\b\b  OK \n",
            "Extracting  test_train_splits/swing_baseball_test_split2.txt             \b\b\b\b 81%\b\b\b\b\b  OK \n",
            "Extracting  test_train_splits/swing_baseball_test_split3.txt             \b\b\b\b 81%\b\b\b\b\b  OK \n",
            "Extracting  test_train_splits/sword_exercise_test_split1.txt             \b\b\b\b 82%\b\b\b\b\b  OK \n",
            "Extracting  test_train_splits/sword_exercise_test_split2.txt             \b\b\b\b 83%\b\b\b\b\b  OK \n",
            "Extracting  test_train_splits/sword_exercise_test_split3.txt             \b\b\b\b 83%\b\b\b\b\b  OK \n",
            "Extracting  test_train_splits/sword_test_split1.txt                      \b\b\b\b 84%\b\b\b\b\b  OK \n",
            "Extracting  test_train_splits/sword_test_split2.txt                      \b\b\b\b 85%\b\b\b\b\b  OK \n",
            "Extracting  test_train_splits/sword_test_split3.txt                      \b\b\b\b 86%\b\b\b\b\b  OK \n",
            "Extracting  test_train_splits/talk_test_split1.txt                       \b\b\b\b 86%\b\b\b\b\b  OK \n",
            "Extracting  test_train_splits/talk_test_split2.txt                       \b\b\b\b 87%\b\b\b\b\b  OK \n",
            "Extracting  test_train_splits/talk_test_split3.txt                       \b\b\b\b 87%\b\b\b\b\b  OK \n",
            "Extracting  test_train_splits/throw_test_split1.txt                      \b\b\b\b 88%\b\b\b\b\b  OK \n",
            "Extracting  test_train_splits/throw_test_split2.txt                      \b\b\b\b 88%\b\b\b\b\b  OK \n",
            "Extracting  test_train_splits/throw_test_split3.txt                      \b\b\b\b 89%\b\b\b\b\b  OK \n",
            "Extracting  test_train_splits/turn_test_split1.txt                       \b\b\b\b 90%\b\b\b\b\b  OK \n",
            "Extracting  test_train_splits/turn_test_split2.txt                       \b\b\b\b 91%\b\b\b\b\b  OK \n",
            "Extracting  test_train_splits/turn_test_split3.txt                       \b\b\b\b 92%\b\b\b\b\b  OK \n",
            "Extracting  test_train_splits/walk_test_split1.txt                       \b\b\b\b 94%\b\b\b\b\b  OK \n",
            "Extracting  test_train_splits/walk_test_split2.txt                       \b\b\b\b 95%\b\b\b\b\b  OK \n",
            "Extracting  test_train_splits/walk_test_split3.txt                       \b\b\b\b 97%\b\b\b\b\b  OK \n",
            "Extracting  test_train_splits/wave_test_split1.txt                       \b\b\b\b 98%\b\b\b\b\b  OK \n",
            "Extracting  test_train_splits/wave_test_split2.txt                       \b\b\b\b 99%\b\b\b\b\b  OK \n",
            "Extracting  test_train_splits/wave_test_split3.txt                       \b\b\b\b 99%\b\b\b\b\b  OK \n",
            "All OK\n",
            "\n",
            "UNRAR 5.50 freeware      Copyright (c) 1993-2017 Alexander Roshal\n",
            "\n",
            "\n",
            "Extracting from hmdb51_org.rar\n",
            "\n",
            "Extracting  shoot_gun.rar                                                \b\b\b\b  0%\b\b\b\b  1%\b\b\b\b\b  OK \n",
            "Extracting  sit.rar                                                      \b\b\b\b  1%\b\b\b\b  2%\b\b\b\b  3%\b\b\b\b\b  OK \n",
            "Extracting  situp.rar                                                    \b\b\b\b  3%\b\b\b\b  4%\b\b\b\b\b  OK \n",
            "Extracting  smile.rar                                                    \b\b\b\b  4%\b\b\b\b  5%\b\b\b\b\b  OK \n",
            "Extracting  smoke.rar                                                    \b\b\b\b  5%\b\b\b\b  6%\b\b\b\b  7%\b\b\b\b\b  OK \n",
            "Extracting  somersault.rar                                               \b\b\b\b  7%\b\b\b\b  8%\b\b\b\b  9%\b\b\b\b\b  OK \n",
            "Extracting  stand.rar                                                    \b\b\b\b  9%\b\b\b\b 10%\b\b\b\b 11%\b\b\b\b\b  OK \n",
            "Extracting  swing_baseball.rar                                           \b\b\b\b 11%\b\b\b\b 12%\b\b\b\b 13%\b\b\b\b\b  OK \n",
            "Extracting  sword.rar                                                    \b\b\b\b 13%\b\b\b\b 14%\b\b\b\b 15%\b\b\b\b\b  OK \n",
            "Extracting  sword_exercise.rar                                           \b\b\b\b 15%\b\b\b\b 16%\b\b\b\b 17%\b\b\b\b\b  OK \n",
            "Extracting  talk.rar                                                     \b\b\b\b 17%\b\b\b\b 18%\b\b\b\b 19%\b\b\b\b\b  OK \n",
            "Extracting  throw.rar                                                    \b\b\b\b 19%\b\b\b\b 20%\b\b\b\b 21%\b\b\b\b\b  OK \n",
            "Extracting  turn.rar                                                     \b\b\b\b 21%\b\b\b\b 22%\b\b\b\b 23%\b\b\b\b\b  OK \n",
            "Extracting  walk.rar                                                     \b\b\b\b 23%\b\b\b\b 24%\b\b\b\b 25%\b\b\b\b 26%\b\b\b\b 27%\b\b\b\b 28%\b\b\b\b 29%\b\b\b\b 30%\b\b\b\b 31%\b\b\b\b 32%\b\b\b\b\b  OK \n",
            "Extracting  wave.rar                                                     \b\b\b\b 32%\b\b\b\b 33%\b\b\b\b\b  OK \n",
            "Extracting  brush_hair.rar                                               \b\b\b\b 33%\b\b\b\b 34%\b\b\b\b 35%\b\b\b\b 36%\b\b\b\b 37%\b\b\b\b\b  OK \n",
            "Extracting  cartwheel.rar                                                \b\b\b\b 37%\b\b\b\b 38%\b\b\b\b 39%\b\b\b\b\b  OK \n",
            "Extracting  catch.rar                                                    \b\b\b\b 39%\b\b\b\b\b  OK \n",
            "Extracting  chew.rar                                                     \b\b\b\b 39%\b\b\b\b 40%\b\b\b\b 41%\b\b\b\b\b  OK \n",
            "Extracting  clap.rar                                                     \b\b\b\b 41%\b\b\b\b 42%\b\b\b\b 43%\b\b\b\b\b  OK \n",
            "Extracting  climb.rar                                                    \b\b\b\b 43%\b\b\b\b 44%\b\b\b\b 45%\b\b\b\b\b  OK \n",
            "Extracting  climb_stairs.rar                                             \b\b\b\b 45%\b\b\b\b 46%\b\b\b\b 47%\b\b\b\b\b  OK \n",
            "Extracting  dive.rar                                                     \b\b\b\b 47%\b\b\b\b 48%\b\b\b\b\b  OK \n",
            "Extracting  draw_sword.rar                                               \b\b\b\b 49%\b\b\b\b 50%\b\b\b\b\b  OK \n",
            "Extracting  dribble.rar                                                  \b\b\b\b 50%\b\b\b\b 51%\b\b\b\b 52%\b\b\b\b\b  OK \n",
            "Extracting  drink.rar                                                    \b\b\b\b 52%\b\b\b\b 53%\b\b\b\b 54%\b\b\b\b\b  OK \n",
            "Extracting  eat.rar                                                      \b\b\b\b 54%\b\b\b\b 55%\b\b\b\b\b  OK \n",
            "Extracting  fall_floor.rar                                               \b\b\b\b 55%\b\b\b\b 56%\b\b\b\b 57%\b\b\b\b\b  OK \n",
            "Extracting  fencing.rar                                                  \b\b\b\b 57%\b\b\b\b 58%\b\b\b\b\b  OK \n",
            "Extracting  flic_flac.rar                                                \b\b\b\b 58%\b\b\b\b 59%\b\b\b\b 60%\b\b\b\b\b  OK \n",
            "Extracting  golf.rar                                                     \b\b\b\b 60%\b\b\b\b 61%\b\b\b\b\b  OK \n",
            "Extracting  handstand.rar                                                \b\b\b\b 61%\b\b\b\b 62%\b\b\b\b 63%\b\b\b\b\b  OK \n",
            "Extracting  hit.rar                                                      \b\b\b\b 63%\b\b\b\b 64%\b\b\b\b\b  OK \n",
            "Extracting  hug.rar                                                      \b\b\b\b 64%\b\b\b\b 65%\b\b\b\b\b  OK \n",
            "Extracting  jump.rar                                                     \b\b\b\b 65%\b\b\b\b 66%\b\b\b\b 67%\b\b\b\b\b  OK \n",
            "Extracting  kick.rar                                                     \b\b\b\b 67%\b\b\b\b 68%\b\b\b\b\b  OK \n",
            "Extracting  kick_ball.rar                                                \b\b\b\b 68%\b\b\b\b 69%\b\b\b\b\b  OK \n",
            "Extracting  kiss.rar                                                     \b\b\b\b 69%\b\b\b\b 70%\b\b\b\b 71%\b\b\b\b\b  OK \n",
            "Extracting  laugh.rar                                                    \b\b\b\b 71%\b\b\b\b 72%\b\b\b\b 73%\b\b\b\b 74%\b\b\b\b 75%\b\b\b\b\b  OK \n",
            "Extracting  pick.rar                                                     \b\b\b\b 75%\b\b\b\b 76%\b\b\b\b\b  OK \n",
            "Extracting  pour.rar                                                     \b\b\b\b 76%\b\b\b\b 77%\b\b\b\b 78%\b\b\b\b\b  OK \n",
            "Extracting  pullup.rar                                                   \b\b\b\b 78%\b\b\b\b 79%\b\b\b\b 80%\b\b\b\b\b  OK \n",
            "Extracting  punch.rar                                                    \b\b\b\b 80%\b\b\b\b 81%\b\b\b\b\b  OK \n",
            "Extracting  push.rar                                                     \b\b\b\b 81%\b\b\b\b 82%\b\b\b\b 83%\b\b\b\b\b  OK \n",
            "Extracting  pushup.rar                                                   \b\b\b\b 83%\b\b\b\b 84%\b\b\b\b\b  OK \n",
            "Extracting  ride_bike.rar                                                \b\b\b\b 84%\b\b\b\b 85%\b\b\b\b 86%\b\b\b\b\b  OK \n",
            "Extracting  ride_horse.rar                                               \b\b\b\b 86%\b\b\b\b 87%\b\b\b\b 88%\b\b\b\b 89%\b\b\b\b\b  OK \n",
            "Extracting  run.rar                                                      \b\b\b\b 89%\b\b\b\b 90%\b\b\b\b 91%\b\b\b\b 92%\b\b\b\b\b  OK \n",
            "Extracting  shake_hands.rar                                              \b\b\b\b 92%\b\b\b\b 93%\b\b\b\b 94%\b\b\b\b 95%\b\b\b\b\b  OK \n",
            "Extracting  shoot_ball.rar                                               \b\b\b\b 95%\b\b\b\b 96%\b\b\b\b\b  OK \n",
            "Extracting  shoot_bow.rar                                                \b\b\b\b 96%\b\b\b\b 97%\b\b\b\b 98%\b\b\b\b 99%\b\b\b\b\b  OK \n",
            "All OK\n"
          ],
          "name": "stdout"
        }
      ]
    },
    {
      "cell_type": "code",
      "metadata": {
        "id": "VmnrW4WLRF1D",
        "colab": {
          "base_uri": "https://localhost:8080/"
        },
        "outputId": "d31f0391-4f7b-4923-d920-9aa2e0ed058b"
      },
      "source": [
        "def run_av_diagnostics():\n",
        "    import av\n",
        "    av.open(\"video_data/brush_hair/Aussie_Brunette_Brushing_Hair_II_brush_hair_u_nm_np1_ba_goo_4.avi\")\n",
        "    print(get_video_backend())\n",
        "    av.logging.set_level(av.logging.ERROR)\n",
        "    if not hasattr(av.video.frame.VideoFrame, 'pict_type'):\n",
        "      print(\"Nah\")\n",
        "\n",
        "run_av_diagnostics()"
      ],
      "execution_count": null,
      "outputs": [
        {
          "output_type": "stream",
          "text": [
            "pyav\n"
          ],
          "name": "stdout"
        }
      ]
    },
    {
      "cell_type": "markdown",
      "metadata": {
        "id": "5_AldiSTWkVM"
      },
      "source": [
        "# Parameters"
      ]
    },
    {
      "cell_type": "code",
      "metadata": {
        "id": "4HJF45OWWjok"
      },
      "source": [
        "num_communication = 1\n",
        "num_local_update = 1\n",
        "num_edge_aggregation = 1\n",
        "lr = 0.01\n",
        "num_clients = 4\n",
        "num_edges = 2\n",
        "bs_train = 8\n",
        "bs_test = 32\n",
        "decay_reg = 0.002\n",
        "num_frames = 16\n",
        "clip_steps = 25\n",
        "num_workers = 8\n",
        "pin_memory = True\n",
        "kwargs = {'num_workers':num_workers, 'pin_memory':True} if torch.cuda.is_available() else {'num_workers':num_workers}"
      ],
      "execution_count": null,
      "outputs": []
    },
    {
      "cell_type": "markdown",
      "metadata": {
        "id": "gEOyesH_SUfv"
      },
      "source": [
        "# Model"
      ]
    },
    {
      "cell_type": "code",
      "metadata": {
        "id": "t89aDoRZRhDf",
        "colab": {
          "base_uri": "https://localhost:8080/",
          "height": 1000,
          "referenced_widgets": [
            "0f3c75c18f7d418e86681b39655c3ce9",
            "b0836c1e163842b3b3aa9ce5b64f18e7",
            "e6b9722a5f434ad191e773de265d8608",
            "ffa545eb12574fd29ee076afe356c04f",
            "c012685ad2e24a68a40fff8317132f1f",
            "10e54fbdb371402aba1bf4787da41871",
            "2c79757e23754b139d0700ce785d59f3",
            "540084c258bd48b6bdf411b819dc2f7e"
          ]
        },
        "outputId": "a676f55e-99cc-4475-be24-811d98613327"
      },
      "source": [
        "class VideoRecog_Model(nn.Module):\n",
        "  def __init__(self):\n",
        "      super(VideoRecog_Model, self).__init__()\n",
        "      self.base_model = nn.Sequential(*list(r3d_18(pretrained=True).children())[:-1])\n",
        "      self.fc = nn.Linear(512, 51)\n",
        "  def forward(self, x):\n",
        "      out = self.base_model(x).squeeze(4).squeeze(3).squeeze(2)\n",
        "      out = torch.log_softmax(self.fc(out), dim=1)\n",
        "      return out\n",
        "\n",
        "def set_parameters(model):\n",
        "    for param in model.parameters():\n",
        "        param.requires_grad = False\n",
        "\n",
        "global_nn = VideoRecog_Model().to(device)\n",
        "set_parameters(global_nn)\n",
        "print(global_nn)"
      ],
      "execution_count": null,
      "outputs": [
        {
          "output_type": "stream",
          "text": [
            "Downloading: \"https://download.pytorch.org/models/r3d_18-b3b3357e.pth\" to /root/.cache/torch/hub/checkpoints/r3d_18-b3b3357e.pth\n"
          ],
          "name": "stderr"
        },
        {
          "output_type": "display_data",
          "data": {
            "application/vnd.jupyter.widget-view+json": {
              "model_id": "0f3c75c18f7d418e86681b39655c3ce9",
              "version_minor": 0,
              "version_major": 2
            },
            "text/plain": [
              "HBox(children=(FloatProgress(value=0.0, max=133546016.0), HTML(value='')))"
            ]
          },
          "metadata": {
            "tags": []
          }
        },
        {
          "output_type": "stream",
          "text": [
            "\n",
            "VideoRecog_Model(\n",
            "  (base_model): Sequential(\n",
            "    (0): BasicStem(\n",
            "      (0): Conv3d(3, 64, kernel_size=(3, 7, 7), stride=(1, 2, 2), padding=(1, 3, 3), bias=False)\n",
            "      (1): BatchNorm3d(64, eps=1e-05, momentum=0.1, affine=True, track_running_stats=True)\n",
            "      (2): ReLU(inplace=True)\n",
            "    )\n",
            "    (1): Sequential(\n",
            "      (0): BasicBlock(\n",
            "        (conv1): Sequential(\n",
            "          (0): Conv3DSimple(64, 64, kernel_size=(3, 3, 3), stride=(1, 1, 1), padding=(1, 1, 1), bias=False)\n",
            "          (1): BatchNorm3d(64, eps=1e-05, momentum=0.1, affine=True, track_running_stats=True)\n",
            "          (2): ReLU(inplace=True)\n",
            "        )\n",
            "        (conv2): Sequential(\n",
            "          (0): Conv3DSimple(64, 64, kernel_size=(3, 3, 3), stride=(1, 1, 1), padding=(1, 1, 1), bias=False)\n",
            "          (1): BatchNorm3d(64, eps=1e-05, momentum=0.1, affine=True, track_running_stats=True)\n",
            "        )\n",
            "        (relu): ReLU(inplace=True)\n",
            "      )\n",
            "      (1): BasicBlock(\n",
            "        (conv1): Sequential(\n",
            "          (0): Conv3DSimple(64, 64, kernel_size=(3, 3, 3), stride=(1, 1, 1), padding=(1, 1, 1), bias=False)\n",
            "          (1): BatchNorm3d(64, eps=1e-05, momentum=0.1, affine=True, track_running_stats=True)\n",
            "          (2): ReLU(inplace=True)\n",
            "        )\n",
            "        (conv2): Sequential(\n",
            "          (0): Conv3DSimple(64, 64, kernel_size=(3, 3, 3), stride=(1, 1, 1), padding=(1, 1, 1), bias=False)\n",
            "          (1): BatchNorm3d(64, eps=1e-05, momentum=0.1, affine=True, track_running_stats=True)\n",
            "        )\n",
            "        (relu): ReLU(inplace=True)\n",
            "      )\n",
            "    )\n",
            "    (2): Sequential(\n",
            "      (0): BasicBlock(\n",
            "        (conv1): Sequential(\n",
            "          (0): Conv3DSimple(64, 128, kernel_size=(3, 3, 3), stride=(2, 2, 2), padding=(1, 1, 1), bias=False)\n",
            "          (1): BatchNorm3d(128, eps=1e-05, momentum=0.1, affine=True, track_running_stats=True)\n",
            "          (2): ReLU(inplace=True)\n",
            "        )\n",
            "        (conv2): Sequential(\n",
            "          (0): Conv3DSimple(128, 128, kernel_size=(3, 3, 3), stride=(1, 1, 1), padding=(1, 1, 1), bias=False)\n",
            "          (1): BatchNorm3d(128, eps=1e-05, momentum=0.1, affine=True, track_running_stats=True)\n",
            "        )\n",
            "        (relu): ReLU(inplace=True)\n",
            "        (downsample): Sequential(\n",
            "          (0): Conv3d(64, 128, kernel_size=(1, 1, 1), stride=(2, 2, 2), bias=False)\n",
            "          (1): BatchNorm3d(128, eps=1e-05, momentum=0.1, affine=True, track_running_stats=True)\n",
            "        )\n",
            "      )\n",
            "      (1): BasicBlock(\n",
            "        (conv1): Sequential(\n",
            "          (0): Conv3DSimple(128, 128, kernel_size=(3, 3, 3), stride=(1, 1, 1), padding=(1, 1, 1), bias=False)\n",
            "          (1): BatchNorm3d(128, eps=1e-05, momentum=0.1, affine=True, track_running_stats=True)\n",
            "          (2): ReLU(inplace=True)\n",
            "        )\n",
            "        (conv2): Sequential(\n",
            "          (0): Conv3DSimple(128, 128, kernel_size=(3, 3, 3), stride=(1, 1, 1), padding=(1, 1, 1), bias=False)\n",
            "          (1): BatchNorm3d(128, eps=1e-05, momentum=0.1, affine=True, track_running_stats=True)\n",
            "        )\n",
            "        (relu): ReLU(inplace=True)\n",
            "      )\n",
            "    )\n",
            "    (3): Sequential(\n",
            "      (0): BasicBlock(\n",
            "        (conv1): Sequential(\n",
            "          (0): Conv3DSimple(128, 256, kernel_size=(3, 3, 3), stride=(2, 2, 2), padding=(1, 1, 1), bias=False)\n",
            "          (1): BatchNorm3d(256, eps=1e-05, momentum=0.1, affine=True, track_running_stats=True)\n",
            "          (2): ReLU(inplace=True)\n",
            "        )\n",
            "        (conv2): Sequential(\n",
            "          (0): Conv3DSimple(256, 256, kernel_size=(3, 3, 3), stride=(1, 1, 1), padding=(1, 1, 1), bias=False)\n",
            "          (1): BatchNorm3d(256, eps=1e-05, momentum=0.1, affine=True, track_running_stats=True)\n",
            "        )\n",
            "        (relu): ReLU(inplace=True)\n",
            "        (downsample): Sequential(\n",
            "          (0): Conv3d(128, 256, kernel_size=(1, 1, 1), stride=(2, 2, 2), bias=False)\n",
            "          (1): BatchNorm3d(256, eps=1e-05, momentum=0.1, affine=True, track_running_stats=True)\n",
            "        )\n",
            "      )\n",
            "      (1): BasicBlock(\n",
            "        (conv1): Sequential(\n",
            "          (0): Conv3DSimple(256, 256, kernel_size=(3, 3, 3), stride=(1, 1, 1), padding=(1, 1, 1), bias=False)\n",
            "          (1): BatchNorm3d(256, eps=1e-05, momentum=0.1, affine=True, track_running_stats=True)\n",
            "          (2): ReLU(inplace=True)\n",
            "        )\n",
            "        (conv2): Sequential(\n",
            "          (0): Conv3DSimple(256, 256, kernel_size=(3, 3, 3), stride=(1, 1, 1), padding=(1, 1, 1), bias=False)\n",
            "          (1): BatchNorm3d(256, eps=1e-05, momentum=0.1, affine=True, track_running_stats=True)\n",
            "        )\n",
            "        (relu): ReLU(inplace=True)\n",
            "      )\n",
            "    )\n",
            "    (4): Sequential(\n",
            "      (0): BasicBlock(\n",
            "        (conv1): Sequential(\n",
            "          (0): Conv3DSimple(256, 512, kernel_size=(3, 3, 3), stride=(2, 2, 2), padding=(1, 1, 1), bias=False)\n",
            "          (1): BatchNorm3d(512, eps=1e-05, momentum=0.1, affine=True, track_running_stats=True)\n",
            "          (2): ReLU(inplace=True)\n",
            "        )\n",
            "        (conv2): Sequential(\n",
            "          (0): Conv3DSimple(512, 512, kernel_size=(3, 3, 3), stride=(1, 1, 1), padding=(1, 1, 1), bias=False)\n",
            "          (1): BatchNorm3d(512, eps=1e-05, momentum=0.1, affine=True, track_running_stats=True)\n",
            "        )\n",
            "        (relu): ReLU(inplace=True)\n",
            "        (downsample): Sequential(\n",
            "          (0): Conv3d(256, 512, kernel_size=(1, 1, 1), stride=(2, 2, 2), bias=False)\n",
            "          (1): BatchNorm3d(512, eps=1e-05, momentum=0.1, affine=True, track_running_stats=True)\n",
            "        )\n",
            "      )\n",
            "      (1): BasicBlock(\n",
            "        (conv1): Sequential(\n",
            "          (0): Conv3DSimple(512, 512, kernel_size=(3, 3, 3), stride=(1, 1, 1), padding=(1, 1, 1), bias=False)\n",
            "          (1): BatchNorm3d(512, eps=1e-05, momentum=0.1, affine=True, track_running_stats=True)\n",
            "          (2): ReLU(inplace=True)\n",
            "        )\n",
            "        (conv2): Sequential(\n",
            "          (0): Conv3DSimple(512, 512, kernel_size=(3, 3, 3), stride=(1, 1, 1), padding=(1, 1, 1), bias=False)\n",
            "          (1): BatchNorm3d(512, eps=1e-05, momentum=0.1, affine=True, track_running_stats=True)\n",
            "        )\n",
            "        (relu): ReLU(inplace=True)\n",
            "      )\n",
            "    )\n",
            "    (5): AdaptiveAvgPool3d(output_size=(1, 1, 1))\n",
            "  )\n",
            "  (fc): Linear(in_features=512, out_features=51, bias=True)\n",
            ")\n"
          ],
          "name": "stdout"
        }
      ]
    },
    {
      "cell_type": "code",
      "metadata": {
        "id": "sSWWWufb60Gz",
        "colab": {
          "base_uri": "https://localhost:8080/"
        },
        "outputId": "52ddd511-7c19-41df-b3bc-a5c1de3e2d91"
      },
      "source": [
        "def count_parameters(model):\n",
        "    return sum(p.numel() for p in model.parameters() if p.requires_grad)\n",
        "\n",
        "out = global_nn(torch.randn(16, 3 , 8, 112,112).cuda())\n",
        "print(count_parameters(global_nn))\n",
        "out.size()"
      ],
      "execution_count": null,
      "outputs": [
        {
          "output_type": "stream",
          "text": [
            "0\n"
          ],
          "name": "stdout"
        },
        {
          "output_type": "execute_result",
          "data": {
            "text/plain": [
              "torch.Size([16, 51])"
            ]
          },
          "metadata": {
            "tags": []
          },
          "execution_count": 7
        }
      ]
    },
    {
      "cell_type": "markdown",
      "metadata": {
        "id": "07_OZH7CVqoC"
      },
      "source": [
        "# Average Weights"
      ]
    },
    {
      "cell_type": "code",
      "metadata": {
        "id": "mxIBo3Uc68vO"
      },
      "source": [
        "class AverageMeter(object):\n",
        "    def __init__(self):\n",
        "        self.reset()\n",
        "\n",
        "    def reset(self):\n",
        "        self.val = 0\n",
        "        self.avg = 0\n",
        "        self.sum = 0\n",
        "        self.count = 0\n",
        "\n",
        "    def update(self, val, n=1):\n",
        "        self.val = val\n",
        "        self.sum += val * n\n",
        "        self.count += n\n",
        "        self.avg = self.sum / self.count\n",
        "\n",
        "    def update_acc(self, val, n=1):\n",
        "        self.val = val/n\n",
        "        self.sum += val\n",
        "        self.count += n\n",
        "        self.avg = self.sum / self.count"
      ],
      "execution_count": null,
      "outputs": []
    },
    {
      "cell_type": "code",
      "metadata": {
        "id": "gsMnCJPFVsTO"
      },
      "source": [
        "def average_weights(w, s_num):\n",
        "    total_sample_num = sum(s_num)\n",
        "    temp_sample_num = s_num[0]\n",
        "    w_avg = copy.deepcopy(w[0])\n",
        "    for k in w_avg.keys():  \n",
        "        for i in range(1, len(w)): \n",
        "            w_avg[k] = w_avg[k] + torch.mul(w[i][k], s_num[i]/temp_sample_num)\n",
        "        w_avg[k] = torch.mul(w_avg[k], temp_sample_num/total_sample_num)\n",
        "    return w_avg"
      ],
      "execution_count": null,
      "outputs": []
    },
    {
      "cell_type": "markdown",
      "metadata": {
        "id": "egmwTD8VVcXb"
      },
      "source": [
        "# Cloud"
      ]
    },
    {
      "cell_type": "code",
      "metadata": {
        "id": "XALzPqAEViFB"
      },
      "source": [
        "class Cloud():\n",
        "    def __init__(self, layers):\n",
        "        self.receiver_buffer = {}\n",
        "        self.state_dict = {}\n",
        "        self.id_registration = []\n",
        "        self.sample_registration = {}\n",
        "    def refresh_cloudserver(self):\n",
        "        self.receiver_buffer.clear()\n",
        "        del self.id_registration[:]\n",
        "        self.sample_registration.clear()\n",
        "        return None\n",
        "    def edge_register(self, edge):\n",
        "        self.id_registration.append(edge.id)\n",
        "        self.sample_registration[edge.id] = edge.all_trainsample_num\n",
        "        return None\n",
        "    def receive_from_edge(self, edge_id, e_state_dict):\n",
        "        self.receiver_buffer[edge_id] = e_state_dict\n",
        "        return None\n",
        "    def aggregate(self):\n",
        "        received_dict = [dict for dict in self.receiver_buffer.values()]\n",
        "        sample_num = [snum for snum in self.sample_registration.values()]\n",
        "        self.state_dict = average_weights(w=received_dict,s_num=sample_num)\n",
        "        return None\n",
        "    def send_to_edge(self, edge): \n",
        "        edge.receive_from_cloudserver(copy.deepcopy(self.state_dict))\n",
        "        return None"
      ],
      "execution_count": null,
      "outputs": []
    },
    {
      "cell_type": "markdown",
      "metadata": {
        "id": "zK5SsDncVd2z"
      },
      "source": [
        "# Edge"
      ]
    },
    {
      "cell_type": "code",
      "metadata": {
        "id": "j6FZnwNLViaj"
      },
      "source": [
        "class Edge():\n",
        "    def __init__(self, id, cids, layers):\n",
        "        self.id = id\n",
        "        self.cids = cids\n",
        "        self.receiver_buffer = {}\n",
        "        self.state_dict = {}\n",
        "        self.id_registration = []\n",
        "        self.sample_registration = {}\n",
        "        self.all_trainsample_num = 0\n",
        "        self.state_dict = layers\n",
        "    def refresh_edgeserver(self):\n",
        "        self.receiver_buffer.clear()\n",
        "        del self.id_registration[:]\n",
        "        self.sample_registration.clear()\n",
        "        return None\n",
        "    def client_register(self, client):\n",
        "        self.id_registration.append(client.id)\n",
        "        self.sample_registration[client.id] = len(client.train_loader.dataset)\n",
        "        return None\n",
        "    def receive_from_client(self, client_id, c_state_dict):\n",
        "        self.receiver_buffer[client_id] = c_state_dict\n",
        "        return None\n",
        "    def aggregate(self):\n",
        "        received_dict = [dict for dict in self.receiver_buffer.values()]\n",
        "        sample_num = [snum for snum in self.sample_registration.values()]\n",
        "        self.state_dict = average_weights(w = received_dict,s_num= sample_num)\n",
        "    def send_to_client(self, client):\n",
        "        client.receive_from_edgeserver(copy.deepcopy(self.state_dict))\n",
        "        return None\n",
        "    def send_to_cloudserver(self, cloud):\n",
        "        cloud.receive_from_edge(edge_id=self.id,e_state_dict= copy.deepcopy(self.state_dict))\n",
        "        return None\n",
        "    def receive_from_cloudserver(self, state_dict):\n",
        "        self.state_dict = state_dict\n",
        "        return None"
      ],
      "execution_count": null,
      "outputs": []
    },
    {
      "cell_type": "markdown",
      "metadata": {
        "id": "-1syuZvMVflc"
      },
      "source": [
        "# Client"
      ]
    },
    {
      "cell_type": "code",
      "metadata": {
        "id": "zBNDJCVCVitZ"
      },
      "source": [
        "class Client():\n",
        "    def __init__(self, id, train_loader, device):\n",
        "        self.id = id\n",
        "        self.train_loader = train_loader\n",
        "        self.model = VideoRecog_Model().to(device)\n",
        "        self.set_parameter_requires_grad_video(self.model)\n",
        "        self.receiver_buffer = {}\n",
        "        self.batch_size_train = bs_train\n",
        "    def set_parameter_requires_grad_video(self, model):\n",
        "        for param in model.parameters():\n",
        "            param.requires_grad = False\n",
        "        model.fc.weight.requires_grad = True\n",
        "        model.fc.bias.requires_grad = True\n",
        "    def local_update(self):\n",
        "        self.model.train()\n",
        "        correct, total_loss, flag = 0, 0.0, 0\n",
        "        Loss, Acc = AverageMeter(), AverageMeter()\n",
        "        optimizer = torch.optim.Adam(self.model.parameters(), lr=lr, weight_decay=decay_reg)\n",
        "        start = time.time()\n",
        "        #print(\"1\")\n",
        "        for epoch in range(num_local_update):  \n",
        "            for batch_id, data in enumerate(self.train_loader):\n",
        "                data, target = data[0].to(device), data[-1].to(device)\n",
        "                #print(\"2\")\n",
        "                optimizer.zero_grad()\n",
        "                output = self.model(data)\n",
        "                loss = F.nll_loss(output, target)\n",
        "                total_loss += loss.item()\n",
        "                loss.backward()\n",
        "                optimizer.step()\n",
        "                Loss.update(loss.item(), data.size(0))\n",
        "                pred = output.argmax(dim=1, keepdim=True)\n",
        "                num_corrects = pred.eq(target.view_as(pred)).sum().item()\n",
        "                correct += num_corrects\n",
        "                Acc.update_acc(num_corrects, data.size(0))\n",
        "                print(\"I am running yay\")\n",
        "            total_loss /= len(self.train_loader.dataset)\n",
        "            print(\"Epoch {}\".format(epoch)) \n",
        "        print(f\"Takes {time.time() - start}\")        \n",
        "        return total_loss \n",
        "    def send_to_edgeserver(self, edgeserver):\n",
        "        edgeserver.receive_from_client(client_id= self.id,c_state_dict = copy.deepcopy(self.model.state_dict()))\n",
        "        return None\n",
        "    def receive_from_edgeserver(self, state_dict):\n",
        "        self.receiver_buffer = state_dict\n",
        "        return None\n",
        "    def update_model(self, new_layers):\n",
        "        self.model.load_state_dict(new_layers)\n",
        "    def sync_with_edgeserver(self):\n",
        "        self.model.load_state_dict(self.receiver_buffer)\n",
        "        return None"
      ],
      "execution_count": null,
      "outputs": []
    },
    {
      "cell_type": "markdown",
      "metadata": {
        "id": "nH2w8cLUZIwE"
      },
      "source": [
        "# HierFL Dataset Split"
      ]
    },
    {
      "cell_type": "code",
      "metadata": {
        "id": "34owP9Mn6duC",
        "colab": {
          "base_uri": "https://localhost:8080/",
          "height": 149,
          "referenced_widgets": [
            "8b456a25eea64e408a313237e1c94070",
            "f8a5e450f3824b168ee4c7c04f5d75b5",
            "86784b892b1b4e488804888c5d7b32d1",
            "0126677ed80f4426a1114c9b550860aa",
            "b563153e70674686baace097859eb301",
            "a74064a29fac4847ba1744e8f827aced",
            "150b90d4861445cd9c644ca5fba8d060",
            "28c7813220fc4c96b7bb8fefd4863ebd",
            "7a55b35c22114738b187fda010bb613b",
            "22cc3d19894a45d68c78070c61bdd3aa",
            "e1bd3d2766584ec1be78d6bc398a030c",
            "bd6e6a7fec314dd29c431ecc5bf15b4c",
            "aeffdba5cc464e70995266db602fcff2",
            "37df35e53bcf4a6a929ef8b689193218",
            "867afbdb53f04f4691f46adb99fddc75",
            "2ecba87489bc412a9513de213f540d4f"
          ]
        },
        "outputId": "a0531ba1-7746-4f9e-96a6-2ea795fdabba"
      },
      "source": [
        "train_tfms = torchvision.transforms.Compose([\n",
        "                                 T.ToFloatTensorInZeroOne(),\n",
        "                                 T.Resize((128, 171)),\n",
        "                                 T.RandomHorizontalFlip(),\n",
        "                                 T.Normalize(mean=[0.43216, 0.394666, 0.37645], std=[0.22803, 0.22145, 0.216989]),\n",
        "                                 T.RandomCrop((112, 112))\n",
        "                               ])  \n",
        "test_tfms =  torchvision.transforms.Compose([\n",
        "                                             T.ToFloatTensorInZeroOne(),\n",
        "                                             T.Resize((128, 171)),\n",
        "                                             T.Normalize(mean=[0.43216, 0.394666, 0.37645], std=[0.22803, 0.22145, 0.216989]),\n",
        "                                             T.CenterCrop((112, 112))\n",
        "                                             ])\n",
        "hmdb51_train = torchvision.datasets.HMDB51('video_data/', 'test_train_splits/', num_frames,\n",
        "                                                step_between_clips = clip_steps, fold=1, train=True,\n",
        "                                                transform=train_tfms, num_workers=num_workers)\n",
        "hmdb51_test = torchvision.datasets.HMDB51('video_data/', 'test_train_splits/', num_frames,\n",
        "                                                step_between_clips = clip_steps, fold=1, train=False,\n",
        "                                                transform=test_tfms, num_workers=num_workers)\n",
        "total_train_samples = len(hmdb51_train)\n",
        "print(f\"number of train samples {total_train_samples}\")\n",
        "print(f\"number of test samples {len(hmdb51_test)}\")"
      ],
      "execution_count": null,
      "outputs": [
        {
          "output_type": "display_data",
          "data": {
            "application/vnd.jupyter.widget-view+json": {
              "model_id": "8b456a25eea64e408a313237e1c94070",
              "version_minor": 0,
              "version_major": 2
            },
            "text/plain": [
              "HBox(children=(FloatProgress(value=0.0, max=423.0), HTML(value='')))"
            ]
          },
          "metadata": {
            "tags": []
          }
        },
        {
          "output_type": "stream",
          "text": [
            "\n"
          ],
          "name": "stdout"
        },
        {
          "output_type": "display_data",
          "data": {
            "application/vnd.jupyter.widget-view+json": {
              "model_id": "7a55b35c22114738b187fda010bb613b",
              "version_minor": 0,
              "version_major": 2
            },
            "text/plain": [
              "HBox(children=(FloatProgress(value=0.0, max=423.0), HTML(value='')))"
            ]
          },
          "metadata": {
            "tags": []
          }
        },
        {
          "output_type": "stream",
          "text": [
            "\n",
            "number of train samples 13396\n",
            "number of test samples 5551\n"
          ],
          "name": "stdout"
        }
      ]
    },
    {
      "cell_type": "code",
      "metadata": {
        "id": "g5au0Haw5EfV"
      },
      "source": [
        "class DatasetSplit(Dataset):\n",
        "    def __init__(self, dataset, idxs):\n",
        "        super(DatasetSplit, self).__init__()\n",
        "        self.dataset = dataset\n",
        "        self.idxs = list(idxs)\n",
        "    def __len__(self):\n",
        "        return len(self.idxs)\n",
        "    def __getitem__(self, item):\n",
        "        data = self.dataset[self.idxs[item]]\n",
        "        return data"
      ],
      "execution_count": null,
      "outputs": []
    },
    {
      "cell_type": "code",
      "metadata": {
        "id": "hGNk0JP60YEz",
        "colab": {
          "base_uri": "https://localhost:8080/"
        },
        "outputId": "6b1a74eb-b9ba-42d6-8a23-ae97898506e0"
      },
      "source": [
        "train_loaders = [0] * num_clients\n",
        "num_samples_per_client = int(total_train_samples / num_clients)\n",
        "all_idxs = [i for i in range(total_train_samples)]  \n",
        "for i in range(num_clients):\n",
        "    idxs = np.random.choice(all_idxs, num_samples_per_client, replace = False)\n",
        "    all_idxs = list(set(all_idxs) - set(idxs))\n",
        "    train_loaders[i] = DataLoader(DatasetSplit(hmdb51_train, idxs), batch_size = bs_train, shuffle = True, **kwargs)\n",
        "\n",
        "test_loader  = DataLoader(hmdb51_test, batch_size=bs_test, shuffle=False, **kwargs)\n",
        "print(len(train_loaders[0].dataset))"
      ],
      "execution_count": null,
      "outputs": [
        {
          "output_type": "stream",
          "text": [
            "3349\n"
          ],
          "name": "stdout"
        }
      ]
    },
    {
      "cell_type": "markdown",
      "metadata": {
        "id": "AZooih5T4F18"
      },
      "source": [
        "# HierFL Test Loop"
      ]
    },
    {
      "cell_type": "code",
      "metadata": {
        "id": "zSHWiWqV5Uz6"
      },
      "source": [
        "def test(model, loader):\n",
        "  model.eval()\n",
        "  correct = 0\n",
        "  total_loss = 0.0\n",
        "  Loss, Acc = AverageMeter(), AverageMeter()\n",
        "  with torch.no_grad():\n",
        "    for batch_id, data in enumerate(loader):\n",
        "      data, target = data[0], data[-1]\n",
        "      data, target = data.to(device), target.to(device)\n",
        "      output = model(data)\n",
        "      loss = F.nll_loss(output, target)\n",
        "      total_loss += loss.item()\n",
        "      Loss.update(loss.item(), data.size(0))\n",
        "      pred = output.argmax(dim=1, keepdim=True)  \n",
        "      num_corrects = pred.eq(target.view_as(pred)).sum().item()\n",
        "      correct += num_corrects\n",
        "      Acc.update_acc(num_corrects, data.size(0))\n",
        "    total_loss /= len(loader.dataset)\n",
        "    print(' Average Loss: {:.6f} Average Accuracy: {}/{} ({:.3f})%'.format(Loss.avg, correct, Acc.count , 100. * Acc.avg ))\n",
        "    return total_loss, 100. * Acc.avg"
      ],
      "execution_count": null,
      "outputs": []
    },
    {
      "cell_type": "markdown",
      "metadata": {
        "id": "qoMZfemk3_M_"
      },
      "source": [
        "# Main HierFL Algorithm"
      ]
    },
    {
      "cell_type": "code",
      "metadata": {
        "colab": {
          "base_uri": "https://localhost:8080/"
        },
        "id": "uHBfIt5OTBeJ",
        "outputId": "5bc8b685-c175-4856-c20a-b2380fc52e69"
      },
      "source": [
        "avg_acc_v_total = []\n",
        "client_loss_total = []\n",
        "clients = []\n",
        "edges = []\n",
        "\n",
        "print(\"Hierarchical Federated Learning Started\")\n",
        "for i in range(num_clients):\n",
        "    clients.append(Client(id=i,train_loader=train_loaders[i],device=device))\n",
        "cids = np.arange(num_clients)\n",
        "clients_per_edge = int(num_clients / num_edges)\n",
        "print(\"Clients initialized\")\n",
        "\n",
        "for i in range(num_edges):\n",
        "    selected_cids = np.random.choice(cids, clients_per_edge, replace=False)\n",
        "    cids = list (set(cids) - set(selected_cids))\n",
        "    edges.append(Edge(id = i,cids = selected_cids,layers = copy.deepcopy(clients[0].model.state_dict())))\n",
        "    [edges[i].client_register(clients[cid]) for cid in selected_cids]\n",
        "    edges[i].all_trainsample_num = sum(edges[i].sample_registration.values())\n",
        "    edges[i].refresh_edgeserver()\n",
        "\n",
        "cloud = Cloud(layers=copy.deepcopy(clients[0].model.state_dict()))\n",
        "print(\"Cloud and edge servers initialized\")"
      ],
      "execution_count": null,
      "outputs": [
        {
          "output_type": "stream",
          "text": [
            "Hierarchical Federated Learning Started\n",
            "Clients initialized\n",
            "Cloud and edge servers initialized\n"
          ],
          "name": "stdout"
        }
      ]
    },
    {
      "cell_type": "code",
      "metadata": {
        "id": "N1vukawIZMlQ",
        "colab": {
          "base_uri": "https://localhost:8080/",
          "height": 236,
          "referenced_widgets": [
            "fe981271a4bd49489fecf12bc1681c1d",
            "b0647bd0f8964003a7422867f62f9d1d",
            "507aeeebea534566bfa520d0531dc29a",
            "437c9790b2914e30bbc0a68e9d8126e4",
            "c95f5105cb0642daa0825c13259a7514",
            "b821e4f570ab495c98b9d69d8a95dad3",
            "f2a6cf1eb2a74d718fb2e0f1e4f5c064",
            "4239795e0e37492d93b608f25d6a6435"
          ]
        },
        "outputId": "4c726b05-96f1-448b-cee2-46e6e308a575"
      },
      "source": [
        "print(\"Starting Training\")\n",
        "for num_comm in tqdm(range(num_communication)):\n",
        "    start = time.time()\n",
        "    cloud.refresh_cloudserver()\n",
        "    [cloud.edge_register(edge=edge) for edge in edges]\n",
        "    print(\"Edge aggregation started\")\n",
        "    for num_edgeagg in range(num_edge_aggregation):\n",
        "        client_loss = 0.0\n",
        "        for i,edge in enumerate(edges):\n",
        "            edge.refresh_edgeserver()\n",
        "            selected_cids = edge.cids\n",
        "            for selected_cid in selected_cids:\n",
        "                edge.client_register(clients[selected_cid])\n",
        "            for selected_cid in selected_cids:\n",
        "                edge.send_to_client(clients[selected_cid])\n",
        "                clients[selected_cid].sync_with_edgeserver()\n",
        "                client_loss += clients[selected_cid].local_update()\n",
        "                clients[selected_cid].send_to_edgeserver(edge)\n",
        "                client_loss_total.append(client_loss) \n",
        "            edge.aggregate()   \n",
        "    print(\"Edge interaction ended\")\n",
        "    for edge in edges:\n",
        "        edge.send_to_cloudserver(cloud)\n",
        "    cloud.aggregate()\n",
        "    for edge in edges:\n",
        "        cloud.send_to_edge(edge)\n",
        "    print(\"Interaction with cloud ended\")\n",
        "    global_nn.load_state_dict(state_dict = copy.deepcopy(cloud.state_dict))\n",
        "    tot_loss, avg_acc_v = test(global_nn, test_loader)\n",
        "    print(\"Epoch {} took {} seconds\".format(num_comm+1, time.time()-start))\n",
        "    avg_acc_v_total.append([avg_acc_v, num_comm + 1])\n",
        "    if (num_comm+1)%3 == 0:\n",
        "        lr = lr*0.05\n",
        "        print(\"Learning rate is now {}\".format(lr))"
      ],
      "execution_count": null,
      "outputs": [
        {
          "output_type": "stream",
          "text": [
            "Starting Training\n"
          ],
          "name": "stdout"
        },
        {
          "output_type": "display_data",
          "data": {
            "application/vnd.jupyter.widget-view+json": {
              "model_id": "fe981271a4bd49489fecf12bc1681c1d",
              "version_minor": 0,
              "version_major": 2
            },
            "text/plain": [
              "HBox(children=(FloatProgress(value=0.0, max=1.0), HTML(value='')))"
            ]
          },
          "metadata": {
            "tags": []
          }
        },
        {
          "output_type": "stream",
          "text": [
            "Edge aggregation started\n",
            "Epoch 0\n",
            "Takes 139.18087315559387\n",
            "Epoch 0\n",
            "Takes 139.0233976840973\n",
            "Edge interaction ended\n",
            "Interaction with cloud ended\n",
            " Average Loss: 2.073229 Average Accuracy: 2612/5551 (47.055)%\n",
            "Epoch 1 took 498.8556299209595 seconds\n",
            "\n"
          ],
          "name": "stdout"
        }
      ]
    },
    {
      "cell_type": "code",
      "metadata": {
        "colab": {
          "base_uri": "https://localhost:8080/",
          "height": 265
        },
        "id": "oJBw7uCK7WE7",
        "outputId": "b1049bce-bc5a-40a6-ca5e-9caaca291ce5"
      },
      "source": [
        "x = []\n",
        "y = []\n",
        "for i in avg_acc_v_total:\n",
        "    x.append(i[1])\n",
        "    y.append(i[0])\n",
        "plt.plot(x,y)\n",
        "plt.show()"
      ],
      "execution_count": null,
      "outputs": [
        {
          "output_type": "display_data",
          "data": {
            "image/png": "[encoded data removed]",
            "text/plain": [
              "<Figure size 432x288 with 1 Axes>"
            ]
          },
          "metadata": {
            "tags": [],
            "needs_background": "light"
          }
        }
      ]
    }
  ]
}